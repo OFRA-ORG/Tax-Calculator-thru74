{
 "cells": [
  {
   "cell_type": "code",
   "execution_count": 1,
   "id": "a061ee88-4b4e-4085-8ca9-5e222a1f2e33",
   "metadata": {},
   "outputs": [],
   "source": [
    "import sys\n",
    "# setting path\n",
    "sys.path.append('../')\n",
    "\n",
    "from taxbrain.taxbrain import TaxBrain\n",
    "from taxbrain import report"
   ]
  },
  {
   "cell_type": "code",
   "execution_count": 2,
   "id": "724e715a-6505-4080-b0d5-762cee667412",
   "metadata": {},
   "outputs": [],
   "source": [
    "## corresponding to JCT's I.A.1\n",
    "json_rates = \"\"\"{\n",
    "    \"II_rt1\": {\"2026\": 0.10},\n",
    "    \"II_brk1\": {\"2026\": [12170.98, 24341.94, 12170.98, 17353.27, 24341.94]},\n",
    "    \"PT_rt1\": {\"2026\": 0.10},\n",
    "    \"PT_brk1\": {\"2026\": [12170.98, 24341.94, 12170.98, 17353.27, 24341.94]},\n",
    "    \"II_rt2\": {\"2026\": 0.12},\n",
    "    \"II_brk2\": {\"2026\": [49483.44, 98966.89, 49483.44, 66214.83, 98966.89]},\n",
    "    \"PT_rt2\": {\"2026\": 0.12},\n",
    "    \"PT_brk2\": {\"2026\": [49483.44, 98966.89, 49483.44, 66214.83, 98966.89]},\n",
    "    \"II_rt3\": {\"2026\": 0.22},\n",
    "    \"II_brk3\": {\"2026\": [105511.38, 211022.75, 105511.38, 105481.77, 211022.75]},\n",
    "    \"PT_rt3\": {\"2026\": 0.22},\n",
    "    \"PT_brk3\": {\"2026\": [105511.38, 211022.75, 105511.38, 105481.77, 211022.75]},\n",
    "    \"II_rt4\": {\"2026\": 0.24},\n",
    "    \"II_brk4\": {\"2026\": [201428.14, 402856.25, 201428.14, 201428.14, 402856.25]},\n",
    "    \"PT_rt4\": {\"2026\": 0.24},\n",
    "    \"PT_brk4\": {\"2026\": [201428.14, 402856.25, 201428.14, 201428.14, 402856.25]},\n",
    "    \"II_rt5\": {\"2026\": 0.32},\n",
    "    \"II_brk5\": {\"2026\": [255797.72, 511595.46, 255797.72, 255797.72, 511595.46]},\n",
    "    \"PT_rt5\": {\"2026\": 0.32},\n",
    "    \"PT_brk5\": {\"2026\": [255797.72, 511595.46, 255797.72, 255797.72, 511595.46]},\n",
    "    \"II_rt6\": {\"2026\": 0.35},\n",
    "    \"II_brk6\": {\"2026\": [639523.94, 767393.2, 383696.6, 639523.94, 767393.2]},\n",
    "    \"PT_rt6\": {\"2026\": 0.35},\n",
    "    \"PT_brk6\": {\"2026\": [639523.94, 767393.2, 383696.6, 639523.94, 767393.2]},\n",
    "    \"II_rt7\": {\"2026\": 0.37},\n",
    "    \"II_brk7\": {\"2026\": [9e+99, 9e+99, 9e+99, 9e+99, 9e+99]},\n",
    "    \"PT_rt7\": {\"2026\": 0.37},\n",
    "    \"PT_brk7\": {\"2026\": [9e+99, 9e+99, 9e+99, 9e+99, 9e+99]}\n",
    "}\"\"\"\n",
    "\n",
    "json_sd = \"\"\"{\n",
    "    \"STD\": {\"2026\": [15339.57, 30679.14, 15339.57, 22979.74, 30679.14]}\n",
    "}\"\"\"\n",
    "\n",
    "json_personal_exemption = \"\"\"{\n",
    "    \"II_em\": {\"2026\": 0.00},\n",
    "    \"II_em_ps\": {\"2026\": [9e+99, 9e+99, 9e+99, 9e+99, 9e+99]}\n",
    "}\"\"\"\n",
    "\n",
    "json_qbid = \"\"\"{\n",
    "    \"PT_qbid_rt\": {\"2026\": 0.20},\n",
    "    \"PT_qbid_taxinc_thd\": {\"2026\": [201428.14, 402856.25, 201428.14, 201428.14, 402856.25]},\n",
    "    \"PT_qbid_taxinc_gap\": {\"2026\": [50000.0, 100000.0, 50000.0, 50000.0, 100000.0]},\n",
    "    \"PT_qbid_w2_wages_rt\": {\"2026\": 0.50},\n",
    "    \"PT_qbid_alt_w2_wages_rt\": {\"2026\": 0.25},\n",
    "    \"PT_qbid_alt_property_rt\": {\"2026\": 0.03}\n",
    "}\"\"\"\n",
    "\n",
    "json_excess_biz_loss = \"\"\"{\n",
    "   \"ALD_BusinessLosses_c\": {\"2026\": [319821.19, 639642.39, 319821.19, 319821.19, 639642.39]}\n",
    "}\"\"\"\n",
    "\n",
    "json_ctc = \"\"\"{\n",
    "    \"CTC_c\": {\"2026\": 2000.00},\n",
    "    \"ACTC_c\": {\"2026\": 1600.00},\n",
    "    \"CTC_ps\": {\"2026\": [200000.0, 400000.0, 200000.0, 200000.0, 400000.0]},\n",
    "    \"ACTC_Income_thd\": {\"2026\": 2500.00},\n",
    "    \"ODC_c\": {\"2026\": 500.00}\n",
    "}\"\"\"\n",
    "\n",
    "json_salt = \"\"\"{\n",
    "    \"ID_AllTaxes_c\": {\"2026\": [10000.0, 10000.0, 5000.0, 10000.0, 10000.0]},\n",
    "    \"ID_Casualty_hc\": {\"2026\": 1.00},\n",
    "    \"ID_Miscellaneous_hc\": {\"2026\": 1.00},\n",
    "    \n",
    "    \"ID_Charity_crt_cash\": {\"2026\": 0.60},\n",
    "    \n",
    "    \"ID_ps\": {\"2026\": [9e+99, 9e+99, 9e+99, 9e+99, 9e+99]},\n",
    "    \"ID_prt\": {\"2026\": 0.00},\n",
    "    \"ID_crt\": {\"2026\": 1.00}\n",
    "}\"\"\"\n",
    "\n",
    "json_amt = \"\"\"{\n",
    "    \"AMT_em\": {\"2026\": [89905.29, 139892.17, 69946.08, 89905.29, 139892.17]},\n",
    "    \"AMT_em_ps\": {\"2026\": [639523.94, 1279047.88, 639523.94, 639523.94, 1279047.88]},\n",
    "    \"AMT_em_pe\": {\"2026\": 939533.04}\n",
    "}\"\"\"\n",
    "\n",
    "json_ald_domestic_prod = \"\"\"{\n",
    "   \"ALD_DomesticProduction_hc\": {\"2026\": 1.00}\n",
    "}\"\"\""
   ]
  },
  {
   "cell_type": "code",
   "execution_count": 3,
   "id": "88b857c0-7248-4c71-87a1-e8ee7cada252",
   "metadata": {},
   "outputs": [],
   "source": [
    "base_policy = \"\"\"{\n",
    "   \"ALD_DomesticProduction_hc\": {\"2026\": 1.00}\n",
    "}\"\"\""
   ]
  },
  {
   "cell_type": "code",
   "execution_count": 4,
   "id": "fa69a9e3-c7ce-4ac3-995e-8188a0b06fa0",
   "metadata": {},
   "outputs": [],
   "source": [
    "base_dict = {base_policy}"
   ]
  },
  {
   "cell_type": "code",
   "execution_count": 5,
   "id": "0f87371c-bfe2-4198-9330-a338bf685330",
   "metadata": {},
   "outputs": [],
   "source": [
    "reform_dict = {\n",
    "    \"json_ald_domestic_prod\": json_ald_domestic_prod,\n",
    "    \n",
    "    \"json_rates\": json_rates,\n",
    "    \"json_ctc\": json_ctc,\n",
    "    \"json_amt\": json_amt,\n",
    "    \"json_sd\": json_sd,\n",
    "    \"json_salt\": json_salt,\n",
    "    \"json_personal_exemption\": json_personal_exemption,\n",
    "    \"json_qbid\": json_qbid,\n",
    "    \"json_excess_biz_loss\": json_excess_biz_loss\n",
    "}"
   ]
  },
  {
   "cell_type": "code",
   "execution_count": 6,
   "id": "93a0e545-3b13-4f0a-a540-03c32c3dcd8a",
   "metadata": {},
   "outputs": [
    {
     "ename": "ValueError",
     "evalue": "could not read tmd.csv data from egg",
     "output_type": "error",
     "traceback": [
      "\u001b[0;31m---------------------------------------------------------------------------\u001b[0m",
      "\u001b[0;31mFileNotFoundError\u001b[0m                         Traceback (most recent call last)",
      "File \u001b[0;32m~/opt/anaconda3/envs/taxcalc-dev/lib/python3.12/site-packages/taxcalc/utils.py:1519\u001b[0m, in \u001b[0;36mread_egg_csv\u001b[0;34m(fname, index_col)\u001b[0m\n\u001b[1;32m   1518\u001b[0m     \u001b[38;5;28;01mwith\u001b[39;00m implibres\u001b[38;5;241m.\u001b[39mas_file(path_in_egg) \u001b[38;5;28;01mas\u001b[39;00m rname:\n\u001b[0;32m-> 1519\u001b[0m         vdf \u001b[38;5;241m=\u001b[39m \u001b[43mpd\u001b[49m\u001b[38;5;241;43m.\u001b[39;49m\u001b[43mread_csv\u001b[49m\u001b[43m(\u001b[49m\u001b[43mrname\u001b[49m\u001b[43m,\u001b[49m\u001b[43m \u001b[49m\u001b[43mindex_col\u001b[49m\u001b[38;5;241;43m=\u001b[39;49m\u001b[43mindex_col\u001b[49m\u001b[43m)\u001b[49m\n\u001b[1;32m   1520\u001b[0m \u001b[38;5;28;01mexcept\u001b[39;00m \u001b[38;5;167;01mException\u001b[39;00m:\n",
      "File \u001b[0;32m~/opt/anaconda3/envs/taxcalc-dev/lib/python3.12/site-packages/pandas/io/parsers/readers.py:1026\u001b[0m, in \u001b[0;36mread_csv\u001b[0;34m(filepath_or_buffer, sep, delimiter, header, names, index_col, usecols, dtype, engine, converters, true_values, false_values, skipinitialspace, skiprows, skipfooter, nrows, na_values, keep_default_na, na_filter, verbose, skip_blank_lines, parse_dates, infer_datetime_format, keep_date_col, date_parser, date_format, dayfirst, cache_dates, iterator, chunksize, compression, thousands, decimal, lineterminator, quotechar, quoting, doublequote, escapechar, comment, encoding, encoding_errors, dialect, on_bad_lines, delim_whitespace, low_memory, memory_map, float_precision, storage_options, dtype_backend)\u001b[0m\n\u001b[1;32m   1024\u001b[0m kwds\u001b[38;5;241m.\u001b[39mupdate(kwds_defaults)\n\u001b[0;32m-> 1026\u001b[0m \u001b[38;5;28;01mreturn\u001b[39;00m \u001b[43m_read\u001b[49m\u001b[43m(\u001b[49m\u001b[43mfilepath_or_buffer\u001b[49m\u001b[43m,\u001b[49m\u001b[43m \u001b[49m\u001b[43mkwds\u001b[49m\u001b[43m)\u001b[49m\n",
      "File \u001b[0;32m~/opt/anaconda3/envs/taxcalc-dev/lib/python3.12/site-packages/pandas/io/parsers/readers.py:620\u001b[0m, in \u001b[0;36m_read\u001b[0;34m(filepath_or_buffer, kwds)\u001b[0m\n\u001b[1;32m    619\u001b[0m \u001b[38;5;66;03m# Create the parser.\u001b[39;00m\n\u001b[0;32m--> 620\u001b[0m parser \u001b[38;5;241m=\u001b[39m \u001b[43mTextFileReader\u001b[49m\u001b[43m(\u001b[49m\u001b[43mfilepath_or_buffer\u001b[49m\u001b[43m,\u001b[49m\u001b[43m \u001b[49m\u001b[38;5;241;43m*\u001b[39;49m\u001b[38;5;241;43m*\u001b[39;49m\u001b[43mkwds\u001b[49m\u001b[43m)\u001b[49m\n\u001b[1;32m    622\u001b[0m \u001b[38;5;28;01mif\u001b[39;00m chunksize \u001b[38;5;129;01mor\u001b[39;00m iterator:\n",
      "File \u001b[0;32m~/opt/anaconda3/envs/taxcalc-dev/lib/python3.12/site-packages/pandas/io/parsers/readers.py:1620\u001b[0m, in \u001b[0;36mTextFileReader.__init__\u001b[0;34m(self, f, engine, **kwds)\u001b[0m\n\u001b[1;32m   1619\u001b[0m \u001b[38;5;28mself\u001b[39m\u001b[38;5;241m.\u001b[39mhandles: IOHandles \u001b[38;5;241m|\u001b[39m \u001b[38;5;28;01mNone\u001b[39;00m \u001b[38;5;241m=\u001b[39m \u001b[38;5;28;01mNone\u001b[39;00m\n\u001b[0;32m-> 1620\u001b[0m \u001b[38;5;28mself\u001b[39m\u001b[38;5;241m.\u001b[39m_engine \u001b[38;5;241m=\u001b[39m \u001b[38;5;28;43mself\u001b[39;49m\u001b[38;5;241;43m.\u001b[39;49m\u001b[43m_make_engine\u001b[49m\u001b[43m(\u001b[49m\u001b[43mf\u001b[49m\u001b[43m,\u001b[49m\u001b[43m \u001b[49m\u001b[38;5;28;43mself\u001b[39;49m\u001b[38;5;241;43m.\u001b[39;49m\u001b[43mengine\u001b[49m\u001b[43m)\u001b[49m\n",
      "File \u001b[0;32m~/opt/anaconda3/envs/taxcalc-dev/lib/python3.12/site-packages/pandas/io/parsers/readers.py:1880\u001b[0m, in \u001b[0;36mTextFileReader._make_engine\u001b[0;34m(self, f, engine)\u001b[0m\n\u001b[1;32m   1879\u001b[0m         mode \u001b[38;5;241m+\u001b[39m\u001b[38;5;241m=\u001b[39m \u001b[38;5;124m\"\u001b[39m\u001b[38;5;124mb\u001b[39m\u001b[38;5;124m\"\u001b[39m\n\u001b[0;32m-> 1880\u001b[0m \u001b[38;5;28mself\u001b[39m\u001b[38;5;241m.\u001b[39mhandles \u001b[38;5;241m=\u001b[39m \u001b[43mget_handle\u001b[49m\u001b[43m(\u001b[49m\n\u001b[1;32m   1881\u001b[0m \u001b[43m    \u001b[49m\u001b[43mf\u001b[49m\u001b[43m,\u001b[49m\n\u001b[1;32m   1882\u001b[0m \u001b[43m    \u001b[49m\u001b[43mmode\u001b[49m\u001b[43m,\u001b[49m\n\u001b[1;32m   1883\u001b[0m \u001b[43m    \u001b[49m\u001b[43mencoding\u001b[49m\u001b[38;5;241;43m=\u001b[39;49m\u001b[38;5;28;43mself\u001b[39;49m\u001b[38;5;241;43m.\u001b[39;49m\u001b[43moptions\u001b[49m\u001b[38;5;241;43m.\u001b[39;49m\u001b[43mget\u001b[49m\u001b[43m(\u001b[49m\u001b[38;5;124;43m\"\u001b[39;49m\u001b[38;5;124;43mencoding\u001b[39;49m\u001b[38;5;124;43m\"\u001b[39;49m\u001b[43m,\u001b[49m\u001b[43m \u001b[49m\u001b[38;5;28;43;01mNone\u001b[39;49;00m\u001b[43m)\u001b[49m\u001b[43m,\u001b[49m\n\u001b[1;32m   1884\u001b[0m \u001b[43m    \u001b[49m\u001b[43mcompression\u001b[49m\u001b[38;5;241;43m=\u001b[39;49m\u001b[38;5;28;43mself\u001b[39;49m\u001b[38;5;241;43m.\u001b[39;49m\u001b[43moptions\u001b[49m\u001b[38;5;241;43m.\u001b[39;49m\u001b[43mget\u001b[49m\u001b[43m(\u001b[49m\u001b[38;5;124;43m\"\u001b[39;49m\u001b[38;5;124;43mcompression\u001b[39;49m\u001b[38;5;124;43m\"\u001b[39;49m\u001b[43m,\u001b[49m\u001b[43m \u001b[49m\u001b[38;5;28;43;01mNone\u001b[39;49;00m\u001b[43m)\u001b[49m\u001b[43m,\u001b[49m\n\u001b[1;32m   1885\u001b[0m \u001b[43m    \u001b[49m\u001b[43mmemory_map\u001b[49m\u001b[38;5;241;43m=\u001b[39;49m\u001b[38;5;28;43mself\u001b[39;49m\u001b[38;5;241;43m.\u001b[39;49m\u001b[43moptions\u001b[49m\u001b[38;5;241;43m.\u001b[39;49m\u001b[43mget\u001b[49m\u001b[43m(\u001b[49m\u001b[38;5;124;43m\"\u001b[39;49m\u001b[38;5;124;43mmemory_map\u001b[39;49m\u001b[38;5;124;43m\"\u001b[39;49m\u001b[43m,\u001b[49m\u001b[43m \u001b[49m\u001b[38;5;28;43;01mFalse\u001b[39;49;00m\u001b[43m)\u001b[49m\u001b[43m,\u001b[49m\n\u001b[1;32m   1886\u001b[0m \u001b[43m    \u001b[49m\u001b[43mis_text\u001b[49m\u001b[38;5;241;43m=\u001b[39;49m\u001b[43mis_text\u001b[49m\u001b[43m,\u001b[49m\n\u001b[1;32m   1887\u001b[0m \u001b[43m    \u001b[49m\u001b[43merrors\u001b[49m\u001b[38;5;241;43m=\u001b[39;49m\u001b[38;5;28;43mself\u001b[39;49m\u001b[38;5;241;43m.\u001b[39;49m\u001b[43moptions\u001b[49m\u001b[38;5;241;43m.\u001b[39;49m\u001b[43mget\u001b[49m\u001b[43m(\u001b[49m\u001b[38;5;124;43m\"\u001b[39;49m\u001b[38;5;124;43mencoding_errors\u001b[39;49m\u001b[38;5;124;43m\"\u001b[39;49m\u001b[43m,\u001b[49m\u001b[43m \u001b[49m\u001b[38;5;124;43m\"\u001b[39;49m\u001b[38;5;124;43mstrict\u001b[39;49m\u001b[38;5;124;43m\"\u001b[39;49m\u001b[43m)\u001b[49m\u001b[43m,\u001b[49m\n\u001b[1;32m   1888\u001b[0m \u001b[43m    \u001b[49m\u001b[43mstorage_options\u001b[49m\u001b[38;5;241;43m=\u001b[39;49m\u001b[38;5;28;43mself\u001b[39;49m\u001b[38;5;241;43m.\u001b[39;49m\u001b[43moptions\u001b[49m\u001b[38;5;241;43m.\u001b[39;49m\u001b[43mget\u001b[49m\u001b[43m(\u001b[49m\u001b[38;5;124;43m\"\u001b[39;49m\u001b[38;5;124;43mstorage_options\u001b[39;49m\u001b[38;5;124;43m\"\u001b[39;49m\u001b[43m,\u001b[49m\u001b[43m \u001b[49m\u001b[38;5;28;43;01mNone\u001b[39;49;00m\u001b[43m)\u001b[49m\u001b[43m,\u001b[49m\n\u001b[1;32m   1889\u001b[0m \u001b[43m\u001b[49m\u001b[43m)\u001b[49m\n\u001b[1;32m   1890\u001b[0m \u001b[38;5;28;01massert\u001b[39;00m \u001b[38;5;28mself\u001b[39m\u001b[38;5;241m.\u001b[39mhandles \u001b[38;5;129;01mis\u001b[39;00m \u001b[38;5;129;01mnot\u001b[39;00m \u001b[38;5;28;01mNone\u001b[39;00m\n",
      "File \u001b[0;32m~/opt/anaconda3/envs/taxcalc-dev/lib/python3.12/site-packages/pandas/io/common.py:873\u001b[0m, in \u001b[0;36mget_handle\u001b[0;34m(path_or_buf, mode, encoding, compression, memory_map, is_text, errors, storage_options)\u001b[0m\n\u001b[1;32m    871\u001b[0m \u001b[38;5;28;01mif\u001b[39;00m ioargs\u001b[38;5;241m.\u001b[39mencoding \u001b[38;5;129;01mand\u001b[39;00m \u001b[38;5;124m\"\u001b[39m\u001b[38;5;124mb\u001b[39m\u001b[38;5;124m\"\u001b[39m \u001b[38;5;129;01mnot\u001b[39;00m \u001b[38;5;129;01min\u001b[39;00m ioargs\u001b[38;5;241m.\u001b[39mmode:\n\u001b[1;32m    872\u001b[0m     \u001b[38;5;66;03m# Encoding\u001b[39;00m\n\u001b[0;32m--> 873\u001b[0m     handle \u001b[38;5;241m=\u001b[39m \u001b[38;5;28;43mopen\u001b[39;49m\u001b[43m(\u001b[49m\n\u001b[1;32m    874\u001b[0m \u001b[43m        \u001b[49m\u001b[43mhandle\u001b[49m\u001b[43m,\u001b[49m\n\u001b[1;32m    875\u001b[0m \u001b[43m        \u001b[49m\u001b[43mioargs\u001b[49m\u001b[38;5;241;43m.\u001b[39;49m\u001b[43mmode\u001b[49m\u001b[43m,\u001b[49m\n\u001b[1;32m    876\u001b[0m \u001b[43m        \u001b[49m\u001b[43mencoding\u001b[49m\u001b[38;5;241;43m=\u001b[39;49m\u001b[43mioargs\u001b[49m\u001b[38;5;241;43m.\u001b[39;49m\u001b[43mencoding\u001b[49m\u001b[43m,\u001b[49m\n\u001b[1;32m    877\u001b[0m \u001b[43m        \u001b[49m\u001b[43merrors\u001b[49m\u001b[38;5;241;43m=\u001b[39;49m\u001b[43merrors\u001b[49m\u001b[43m,\u001b[49m\n\u001b[1;32m    878\u001b[0m \u001b[43m        \u001b[49m\u001b[43mnewline\u001b[49m\u001b[38;5;241;43m=\u001b[39;49m\u001b[38;5;124;43m\"\u001b[39;49m\u001b[38;5;124;43m\"\u001b[39;49m\u001b[43m,\u001b[49m\n\u001b[1;32m    879\u001b[0m \u001b[43m    \u001b[49m\u001b[43m)\u001b[49m\n\u001b[1;32m    880\u001b[0m \u001b[38;5;28;01melse\u001b[39;00m:\n\u001b[1;32m    881\u001b[0m     \u001b[38;5;66;03m# Binary mode\u001b[39;00m\n",
      "\u001b[0;31mFileNotFoundError\u001b[0m: [Errno 2] No such file or directory: '/Users/weifeng/opt/anaconda3/envs/taxcalc-dev/lib/python3.12/site-packages/taxcalc/tmd.csv'",
      "\nDuring handling of the above exception, another exception occurred:\n",
      "\u001b[0;31mValueError\u001b[0m                                Traceback (most recent call last)",
      "Cell \u001b[0;32mIn[6], line 2\u001b[0m\n\u001b[1;32m      1\u001b[0m dynamic_min \u001b[38;5;241m=\u001b[39m TaxBrain(\u001b[38;5;241m2025\u001b[39m, \u001b[38;5;241m2034\u001b[39m, microdata\u001b[38;5;241m=\u001b[39m\u001b[38;5;124m\"\u001b[39m\u001b[38;5;124mTMD\u001b[39m\u001b[38;5;124m\"\u001b[39m, base_policy\u001b[38;5;241m=\u001b[39mbase_policy, reform\u001b[38;5;241m=\u001b[39mreform_dict, stacked\u001b[38;5;241m=\u001b[39m\u001b[38;5;28;01mTrue\u001b[39;00m, behavior\u001b[38;5;241m=\u001b[39m{\u001b[38;5;124m\"\u001b[39m\u001b[38;5;124msub\u001b[39m\u001b[38;5;124m\"\u001b[39m: \u001b[38;5;241m0\u001b[39m, \u001b[38;5;124m\"\u001b[39m\u001b[38;5;124mcg\u001b[39m\u001b[38;5;124m\"\u001b[39m: \u001b[38;5;241m0\u001b[39m})\n\u001b[0;32m----> 2\u001b[0m \u001b[43mdynamic_min\u001b[49m\u001b[38;5;241;43m.\u001b[39;49m\u001b[43mrun\u001b[49m\u001b[43m(\u001b[49m\u001b[43m)\u001b[49m\n",
      "File \u001b[0;32m~/GitHub/Tax-Calculator-thru74/sims-breakdown/../taxbrain/taxbrain.py:164\u001b[0m, in \u001b[0;36mTaxBrain.run\u001b[0;34m(self, varlist, client, num_workers)\u001b[0m\n\u001b[1;32m    162\u001b[0m     \u001b[38;5;28;01mraise\u001b[39;00m \u001b[38;5;167;01mTypeError\u001b[39;00m(msg)\n\u001b[1;32m    163\u001b[0m \u001b[38;5;28;01mif\u001b[39;00m \u001b[38;5;28mself\u001b[39m\u001b[38;5;241m.\u001b[39mstacked:\n\u001b[0;32m--> 164\u001b[0m     base_calc, policy, records \u001b[38;5;241m=\u001b[39m \u001b[38;5;28;43mself\u001b[39;49m\u001b[38;5;241;43m.\u001b[39;49m\u001b[43m_make_stacked_objects\u001b[49m\u001b[43m(\u001b[49m\u001b[43m)\u001b[49m\n\u001b[1;32m    165\u001b[0m     \u001b[38;5;28mself\u001b[39m\u001b[38;5;241m.\u001b[39m_stacked_run(\n\u001b[1;32m    166\u001b[0m         varlist, base_calc, policy, records, client, num_workers\n\u001b[1;32m    167\u001b[0m     )\n\u001b[1;32m    168\u001b[0m     \u001b[38;5;28;01mdel\u001b[39;00m base_calc\n",
      "File \u001b[0;32m~/GitHub/Tax-Calculator-thru74/sims-breakdown/../taxbrain/taxbrain.py:821\u001b[0m, in \u001b[0;36mTaxBrain._make_stacked_objects\u001b[0;34m(self)\u001b[0m\n\u001b[1;32m    815\u001b[0m     records \u001b[38;5;241m=\u001b[39m tc\u001b[38;5;241m.\u001b[39mRecords(\n\u001b[1;32m    816\u001b[0m         \u001b[38;5;124m\"\u001b[39m\u001b[38;5;124mpuf.csv\u001b[39m\u001b[38;5;124m\"\u001b[39m,\n\u001b[1;32m    817\u001b[0m         gfactors\u001b[38;5;241m=\u001b[39mgf_base,\n\u001b[1;32m    818\u001b[0m         weights\u001b[38;5;241m=\u001b[39mtc\u001b[38;5;241m.\u001b[39mRecords\u001b[38;5;241m.\u001b[39mPUF_WEIGHTS_FILENAME,\n\u001b[1;32m    819\u001b[0m     )\n\u001b[1;32m    820\u001b[0m \u001b[38;5;28;01melif\u001b[39;00m \u001b[38;5;28mself\u001b[39m\u001b[38;5;241m.\u001b[39mmicrodata \u001b[38;5;241m==\u001b[39m \u001b[38;5;124m\"\u001b[39m\u001b[38;5;124mTMD\u001b[39m\u001b[38;5;124m\"\u001b[39m:\n\u001b[0;32m--> 821\u001b[0m     records \u001b[38;5;241m=\u001b[39m \u001b[43mtc\u001b[49m\u001b[38;5;241;43m.\u001b[39;49m\u001b[43mRecords\u001b[49m\u001b[38;5;241;43m.\u001b[39;49m\u001b[43mtmd_constructor\u001b[49m\u001b[43m(\u001b[49m\n\u001b[1;32m    822\u001b[0m \u001b[43m        \u001b[49m\u001b[38;5;124;43m\"\u001b[39;49m\u001b[38;5;124;43mtmd.csv\u001b[39;49m\u001b[38;5;124;43m\"\u001b[39;49m\u001b[43m,\u001b[49m\n\u001b[1;32m    823\u001b[0m \u001b[43m        \u001b[49m\u001b[43mgfactors\u001b[49m\u001b[38;5;241;43m=\u001b[39;49m\u001b[43mgf_base\u001b[49m\u001b[43m,\u001b[49m\n\u001b[1;32m    824\u001b[0m \u001b[43m    \u001b[49m\u001b[43m)\u001b[49m\n\u001b[1;32m    825\u001b[0m \u001b[38;5;28;01melif\u001b[39;00m \u001b[38;5;28misinstance\u001b[39m(\u001b[38;5;28mself\u001b[39m\u001b[38;5;241m.\u001b[39mmicrodata, \u001b[38;5;28mdict\u001b[39m):\n\u001b[1;32m    826\u001b[0m     \u001b[38;5;28;01mif\u001b[39;00m \u001b[38;5;28mself\u001b[39m\u001b[38;5;241m.\u001b[39mmicrodata[\u001b[38;5;124m\"\u001b[39m\u001b[38;5;124mgrowfactors\u001b[39m\u001b[38;5;124m\"\u001b[39m] \u001b[38;5;129;01mis\u001b[39;00m \u001b[38;5;28;01mNone\u001b[39;00m:\n",
      "File \u001b[0;32m~/opt/anaconda3/envs/taxcalc-dev/lib/python3.12/site-packages/taxcalc/records.py:243\u001b[0m, in \u001b[0;36mRecords.tmd_constructor\u001b[0;34m(data, gfactors, exact_calculations)\u001b[0m\n\u001b[1;32m    232\u001b[0m \u001b[38;5;250m\u001b[39m\u001b[38;5;124;03m\"\"\"\u001b[39;00m\n\u001b[1;32m    233\u001b[0m \u001b[38;5;124;03mStatic method returns a Records object instantiated with TMD\u001b[39;00m\n\u001b[1;32m    234\u001b[0m \u001b[38;5;124;03minput data.  This works in a analogous way to Records(), which\u001b[39;00m\n\u001b[0;32m   (...)\u001b[0m\n\u001b[1;32m    240\u001b[0m \u001b[38;5;124;03mdata.\u001b[39;00m\n\u001b[1;32m    241\u001b[0m \u001b[38;5;124;03m\"\"\"\u001b[39;00m\n\u001b[1;32m    242\u001b[0m weights \u001b[38;5;241m=\u001b[39m os\u001b[38;5;241m.\u001b[39mpath\u001b[38;5;241m.\u001b[39mjoin(Records\u001b[38;5;241m.\u001b[39mCODE_PATH, Records\u001b[38;5;241m.\u001b[39mTMD_WEIGHTS_FILENAME)\n\u001b[0;32m--> 243\u001b[0m \u001b[38;5;28;01mreturn\u001b[39;00m \u001b[43mRecords\u001b[49m\u001b[43m(\u001b[49m\u001b[43mdata\u001b[49m\u001b[38;5;241;43m=\u001b[39;49m\u001b[43mdata\u001b[49m\u001b[43m,\u001b[49m\n\u001b[1;32m    244\u001b[0m \u001b[43m               \u001b[49m\u001b[43mstart_year\u001b[49m\u001b[38;5;241;43m=\u001b[39;49m\u001b[43mRecords\u001b[49m\u001b[38;5;241;43m.\u001b[39;49m\u001b[43mTMDCSV_YEAR\u001b[49m\u001b[43m,\u001b[49m\n\u001b[1;32m    245\u001b[0m \u001b[43m               \u001b[49m\u001b[43mgfactors\u001b[49m\u001b[38;5;241;43m=\u001b[39;49m\u001b[43mgfactors\u001b[49m\u001b[43m,\u001b[49m\n\u001b[1;32m    246\u001b[0m \u001b[43m               \u001b[49m\u001b[43mweights\u001b[49m\u001b[38;5;241;43m=\u001b[39;49m\u001b[43mweights\u001b[49m\u001b[43m,\u001b[49m\n\u001b[1;32m    247\u001b[0m \u001b[43m               \u001b[49m\u001b[43madjust_ratios\u001b[49m\u001b[38;5;241;43m=\u001b[39;49m\u001b[43mRecords\u001b[49m\u001b[38;5;241;43m.\u001b[39;49m\u001b[43mTMD_RATIOS_FILENAME\u001b[49m\u001b[43m,\u001b[49m\n\u001b[1;32m    248\u001b[0m \u001b[43m               \u001b[49m\u001b[43mexact_calculations\u001b[49m\u001b[38;5;241;43m=\u001b[39;49m\u001b[43mexact_calculations\u001b[49m\u001b[43m)\u001b[49m\n",
      "File \u001b[0;32m~/opt/anaconda3/envs/taxcalc-dev/lib/python3.12/site-packages/taxcalc/records.py:136\u001b[0m, in \u001b[0;36mRecords.__init__\u001b[0;34m(self, data, start_year, gfactors, weights, adjust_ratios, exact_calculations)\u001b[0m\n\u001b[1;32m    134\u001b[0m \u001b[38;5;28;01mif\u001b[39;00m \u001b[38;5;28misinstance\u001b[39m(weights, \u001b[38;5;28mstr\u001b[39m):\n\u001b[1;32m    135\u001b[0m     weights \u001b[38;5;241m=\u001b[39m os\u001b[38;5;241m.\u001b[39mpath\u001b[38;5;241m.\u001b[39mjoin(Records\u001b[38;5;241m.\u001b[39mCODE_PATH, weights)\n\u001b[0;32m--> 136\u001b[0m \u001b[38;5;28;43msuper\u001b[39;49m\u001b[43m(\u001b[49m\u001b[43m)\u001b[49m\u001b[38;5;241;43m.\u001b[39;49m\u001b[38;5;21;43m__init__\u001b[39;49m\u001b[43m(\u001b[49m\u001b[43mdata\u001b[49m\u001b[43m,\u001b[49m\u001b[43m \u001b[49m\u001b[43mstart_year\u001b[49m\u001b[43m,\u001b[49m\u001b[43m \u001b[49m\u001b[43mgfactors\u001b[49m\u001b[43m,\u001b[49m\u001b[43m \u001b[49m\u001b[43mweights\u001b[49m\u001b[43m)\u001b[49m\n\u001b[1;32m    137\u001b[0m \u001b[38;5;28;01mif\u001b[39;00m data \u001b[38;5;129;01mis\u001b[39;00m \u001b[38;5;28;01mNone\u001b[39;00m:\n\u001b[1;32m    138\u001b[0m     \u001b[38;5;28;01mreturn\u001b[39;00m  \u001b[38;5;66;03m# because there are no data\u001b[39;00m\n",
      "File \u001b[0;32m~/opt/anaconda3/envs/taxcalc-dev/lib/python3.12/site-packages/taxcalc/data.py:92\u001b[0m, in \u001b[0;36mData.__init__\u001b[0;34m(self, data, start_year, gfactors, weights)\u001b[0m\n\u001b[1;32m     90\u001b[0m \u001b[38;5;28mself\u001b[39m\u001b[38;5;241m.\u001b[39m__current_year \u001b[38;5;241m=\u001b[39m start_year\n\u001b[1;32m     91\u001b[0m \u001b[38;5;66;03m# read specified data\u001b[39;00m\n\u001b[0;32m---> 92\u001b[0m \u001b[38;5;28;43mself\u001b[39;49m\u001b[38;5;241;43m.\u001b[39;49m\u001b[43m_read_data\u001b[49m\u001b[43m(\u001b[49m\u001b[43mdata\u001b[49m\u001b[43m)\u001b[49m\n\u001b[1;32m     93\u001b[0m \u001b[38;5;66;03m# handle growth factors\u001b[39;00m\n\u001b[1;32m     94\u001b[0m \u001b[38;5;28;01mif\u001b[39;00m \u001b[38;5;28mself\u001b[39m\u001b[38;5;241m.\u001b[39m__aging_data:\n",
      "File \u001b[0;32m~/opt/anaconda3/envs/taxcalc-dev/lib/python3.12/site-packages/taxcalc/data.py:203\u001b[0m, in \u001b[0;36mData._read_data\u001b[0;34m(self, data)\u001b[0m\n\u001b[1;32m    201\u001b[0m         taxdf \u001b[38;5;241m=\u001b[39m pd\u001b[38;5;241m.\u001b[39mread_csv(data)\n\u001b[1;32m    202\u001b[0m     \u001b[38;5;28;01melse\u001b[39;00m:  \u001b[38;5;66;03m# find file in conda package\u001b[39;00m\n\u001b[0;32m--> 203\u001b[0m         taxdf \u001b[38;5;241m=\u001b[39m \u001b[43mread_egg_csv\u001b[49m\u001b[43m(\u001b[49m\u001b[43mdata\u001b[49m\u001b[43m)\u001b[49m  \u001b[38;5;66;03m# pragma: no cover\u001b[39;00m\n\u001b[1;32m    204\u001b[0m \u001b[38;5;28;01melse\u001b[39;00m:\n\u001b[1;32m    205\u001b[0m     msg \u001b[38;5;241m=\u001b[39m \u001b[38;5;124m'\u001b[39m\u001b[38;5;124mdata is neither a string nor a Pandas DataFrame\u001b[39m\u001b[38;5;124m'\u001b[39m\n",
      "File \u001b[0;32m~/opt/anaconda3/envs/taxcalc-dev/lib/python3.12/site-packages/taxcalc/utils.py:1521\u001b[0m, in \u001b[0;36mread_egg_csv\u001b[0;34m(fname, index_col)\u001b[0m\n\u001b[1;32m   1519\u001b[0m         vdf \u001b[38;5;241m=\u001b[39m pd\u001b[38;5;241m.\u001b[39mread_csv(rname, index_col\u001b[38;5;241m=\u001b[39mindex_col)\n\u001b[1;32m   1520\u001b[0m \u001b[38;5;28;01mexcept\u001b[39;00m \u001b[38;5;167;01mException\u001b[39;00m:\n\u001b[0;32m-> 1521\u001b[0m     \u001b[38;5;28;01mraise\u001b[39;00m \u001b[38;5;167;01mValueError\u001b[39;00m(\u001b[38;5;124mf\u001b[39m\u001b[38;5;124m'\u001b[39m\u001b[38;5;124mcould not read \u001b[39m\u001b[38;5;132;01m{\u001b[39;00mfname\u001b[38;5;132;01m}\u001b[39;00m\u001b[38;5;124m data from egg\u001b[39m\u001b[38;5;124m'\u001b[39m)\n\u001b[1;32m   1522\u001b[0m \u001b[38;5;66;03m# cannot call read_egg_ function in unit tests\u001b[39;00m\n\u001b[1;32m   1523\u001b[0m \u001b[38;5;28;01mreturn\u001b[39;00m vdf\n",
      "\u001b[0;31mValueError\u001b[0m: could not read tmd.csv data from egg"
     ]
    }
   ],
   "source": [
    "dynamic_min = TaxBrain(2025, 2034, microdata=\"TMD\", base_policy=base_policy, reform=reform_dict, stacked=True, behavior={\"sub\": 0, \"cg\": 0})\n",
    "dynamic_min.run()"
   ]
  },
  {
   "cell_type": "code",
   "execution_count": null,
   "id": "2f230fb0-f22a-4c31-9e4e-c37c4fa74528",
   "metadata": {},
   "outputs": [],
   "source": [
    "df = -dynamic_min.stacked_table * 1e-6\n",
    "df.to_csv('tcja_breakdown_wo_behresp.csv')"
   ]
  },
  {
   "cell_type": "code",
   "execution_count": null,
   "id": "55d2b46c-48b0-4fa9-ac88-0012d2acb8b3",
   "metadata": {},
   "outputs": [],
   "source": [
    "dynamic = TaxBrain(2025, 2034, microdata=\"TMD\", base_policy=base_policy, reform=reform_dict, stacked=True, behavior={\"sub\": 0.25, \"cg\": -3.45})\n",
    "dynamic.run()"
   ]
  },
  {
   "cell_type": "code",
   "execution_count": null,
   "id": "7ad85f1a-6727-40e4-bfa2-d07d50d79d09",
   "metadata": {},
   "outputs": [],
   "source": [
    "df = -dynamic.stacked_table * 1e-6\n",
    "df.to_csv('tcja_breakdown_w_behresp.csv')"
   ]
  }
 ],
 "metadata": {
  "kernelspec": {
   "display_name": "Python 3 (ipykernel)",
   "language": "python",
   "name": "python3"
  },
  "language_info": {
   "codemirror_mode": {
    "name": "ipython",
    "version": 3
   },
   "file_extension": ".py",
   "mimetype": "text/x-python",
   "name": "python",
   "nbconvert_exporter": "python",
   "pygments_lexer": "ipython3",
   "version": "3.12.4"
  }
 },
 "nbformat": 4,
 "nbformat_minor": 5
}
