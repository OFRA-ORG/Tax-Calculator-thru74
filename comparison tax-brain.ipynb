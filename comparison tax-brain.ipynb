{
 "cells": [
  {
   "cell_type": "code",
   "execution_count": 1,
   "id": "68bad2da-d5d0-4e2d-a269-466e46c7f004",
   "metadata": {},
   "outputs": [],
   "source": [
    "import pandas as pd\n",
    "from taxbrain.taxbrain import TaxBrain"
   ]
  },
  {
   "cell_type": "code",
   "execution_count": 2,
   "id": "184139b6-fbfe-4ba0-b72b-3b3d1d0c7b45",
   "metadata": {},
   "outputs": [],
   "source": [
    "base_policy = {\n",
    "    \"ALD_DomesticProduction_hc\": {\"2026\": 1.00}\n",
    "}"
   ]
  },
  {
   "cell_type": "code",
   "execution_count": 3,
   "id": "b947ffc6-cdf6-4672-9804-2c1beafbafa5",
   "metadata": {},
   "outputs": [],
   "source": [
    "reform_url = \"https://raw.githubusercontent.com/PSLmodels/Tax-Calculator/master/taxcalc/reforms/ext.json\""
   ]
  },
  {
   "cell_type": "code",
   "execution_count": 4,
   "id": "0ea50462-ec7e-4a43-87d6-4baa86c7ab5c",
   "metadata": {},
   "outputs": [
    {
     "data": {
      "text/html": [
       "<div>\n",
       "<style scoped>\n",
       "    .dataframe tbody tr th:only-of-type {\n",
       "        vertical-align: middle;\n",
       "    }\n",
       "\n",
       "    .dataframe tbody tr th {\n",
       "        vertical-align: top;\n",
       "    }\n",
       "\n",
       "    .dataframe thead th {\n",
       "        text-align: right;\n",
       "    }\n",
       "</style>\n",
       "<table border=\"1\" class=\"dataframe\">\n",
       "  <thead>\n",
       "    <tr style=\"text-align: right;\">\n",
       "      <th></th>\n",
       "      <th>2025</th>\n",
       "      <th>2026</th>\n",
       "      <th>2027</th>\n",
       "      <th>2028</th>\n",
       "      <th>2029</th>\n",
       "      <th>2030</th>\n",
       "      <th>2031</th>\n",
       "      <th>2032</th>\n",
       "      <th>2033</th>\n",
       "      <th>2034</th>\n",
       "      <th>Total</th>\n",
       "    </tr>\n",
       "  </thead>\n",
       "  <tbody>\n",
       "    <tr>\n",
       "      <th>Base</th>\n",
       "      <td>4.080526</td>\n",
       "      <td>4.558675</td>\n",
       "      <td>4.747951</td>\n",
       "      <td>4.941409</td>\n",
       "      <td>5.149083</td>\n",
       "      <td>5.363421</td>\n",
       "      <td>5.585335</td>\n",
       "      <td>5.814207</td>\n",
       "      <td>6.047603</td>\n",
       "      <td>6.286351</td>\n",
       "      <td>52.574560</td>\n",
       "    </tr>\n",
       "    <tr>\n",
       "      <th>Reform</th>\n",
       "      <td>4.080526</td>\n",
       "      <td>4.267077</td>\n",
       "      <td>4.447848</td>\n",
       "      <td>4.632875</td>\n",
       "      <td>4.831295</td>\n",
       "      <td>5.036466</td>\n",
       "      <td>5.249092</td>\n",
       "      <td>5.468640</td>\n",
       "      <td>5.692602</td>\n",
       "      <td>5.921847</td>\n",
       "      <td>49.628267</td>\n",
       "    </tr>\n",
       "    <tr>\n",
       "      <th>Difference</th>\n",
       "      <td>0.000000</td>\n",
       "      <td>-0.291598</td>\n",
       "      <td>-0.300102</td>\n",
       "      <td>-0.308534</td>\n",
       "      <td>-0.317788</td>\n",
       "      <td>-0.326954</td>\n",
       "      <td>-0.336243</td>\n",
       "      <td>-0.345567</td>\n",
       "      <td>-0.355001</td>\n",
       "      <td>-0.364504</td>\n",
       "      <td>-2.946293</td>\n",
       "    </tr>\n",
       "  </tbody>\n",
       "</table>\n",
       "</div>"
      ],
      "text/plain": [
       "                2025      2026      2027      2028      2029      2030  \\\n",
       "Base        4.080526  4.558675  4.747951  4.941409  5.149083  5.363421   \n",
       "Reform      4.080526  4.267077  4.447848  4.632875  4.831295  5.036466   \n",
       "Difference  0.000000 -0.291598 -0.300102 -0.308534 -0.317788 -0.326954   \n",
       "\n",
       "                2031      2032      2033      2034      Total  \n",
       "Base        5.585335  5.814207  6.047603  6.286351  52.574560  \n",
       "Reform      5.249092  5.468640  5.692602  5.921847  49.628267  \n",
       "Difference -0.336243 -0.345567 -0.355001 -0.364504  -2.946293  "
      ]
     },
     "execution_count": 4,
     "metadata": {},
     "output_type": "execute_result"
    }
   ],
   "source": [
    "dynamic_min = TaxBrain(2025, 2034, microdata=\"TMD\", base_policy=base_policy, reform=reform_url, behavior={\"sub\": 0, \"cg\": 0})\n",
    "dynamic_min.run()\n",
    "result_df = dynamic_min.weighted_totals(\"combined\", include_total=True) * 1e-12"
   ]
  },
  {
   "cell_type": "code",
   "execution_count": 5,
   "id": "c4dec74b-c621-4609-8034-4116b3c9ee8e",
   "metadata": {},
   "outputs": [],
   "source": [
    "result_df.to_csv('tax_brain_result_wo_behresp.csv')"
   ]
  },
  {
   "cell_type": "code",
   "execution_count": 6,
   "id": "0187cd75-0beb-4ddb-9496-2886f3449d7f",
   "metadata": {},
   "outputs": [
    {
     "data": {
      "text/html": [
       "<div>\n",
       "<style scoped>\n",
       "    .dataframe tbody tr th:only-of-type {\n",
       "        vertical-align: middle;\n",
       "    }\n",
       "\n",
       "    .dataframe tbody tr th {\n",
       "        vertical-align: top;\n",
       "    }\n",
       "\n",
       "    .dataframe thead th {\n",
       "        text-align: right;\n",
       "    }\n",
       "</style>\n",
       "<table border=\"1\" class=\"dataframe\">\n",
       "  <thead>\n",
       "    <tr style=\"text-align: right;\">\n",
       "      <th></th>\n",
       "      <th>2025</th>\n",
       "      <th>2026</th>\n",
       "      <th>2027</th>\n",
       "      <th>2028</th>\n",
       "      <th>2029</th>\n",
       "      <th>2030</th>\n",
       "      <th>2031</th>\n",
       "      <th>2032</th>\n",
       "      <th>2033</th>\n",
       "      <th>2034</th>\n",
       "      <th>Total</th>\n",
       "    </tr>\n",
       "  </thead>\n",
       "  <tbody>\n",
       "    <tr>\n",
       "      <th>Base</th>\n",
       "      <td>4.080526</td>\n",
       "      <td>4.558675</td>\n",
       "      <td>4.747951</td>\n",
       "      <td>4.941409</td>\n",
       "      <td>5.149083</td>\n",
       "      <td>5.363421</td>\n",
       "      <td>5.585335</td>\n",
       "      <td>5.814207</td>\n",
       "      <td>6.047603</td>\n",
       "      <td>6.286351</td>\n",
       "      <td>52.574560</td>\n",
       "    </tr>\n",
       "    <tr>\n",
       "      <th>Reform</th>\n",
       "      <td>4.080526</td>\n",
       "      <td>4.330459</td>\n",
       "      <td>4.513691</td>\n",
       "      <td>4.701360</td>\n",
       "      <td>4.902731</td>\n",
       "      <td>5.110789</td>\n",
       "      <td>5.326102</td>\n",
       "      <td>5.548733</td>\n",
       "      <td>5.775851</td>\n",
       "      <td>6.008613</td>\n",
       "      <td>50.298856</td>\n",
       "    </tr>\n",
       "    <tr>\n",
       "      <th>Difference</th>\n",
       "      <td>0.000000</td>\n",
       "      <td>-0.228215</td>\n",
       "      <td>-0.234260</td>\n",
       "      <td>-0.240049</td>\n",
       "      <td>-0.246353</td>\n",
       "      <td>-0.252632</td>\n",
       "      <td>-0.259232</td>\n",
       "      <td>-0.265474</td>\n",
       "      <td>-0.271752</td>\n",
       "      <td>-0.277738</td>\n",
       "      <td>-2.275705</td>\n",
       "    </tr>\n",
       "  </tbody>\n",
       "</table>\n",
       "</div>"
      ],
      "text/plain": [
       "                2025      2026      2027      2028      2029      2030  \\\n",
       "Base        4.080526  4.558675  4.747951  4.941409  5.149083  5.363421   \n",
       "Reform      4.080526  4.330459  4.513691  4.701360  4.902731  5.110789   \n",
       "Difference  0.000000 -0.228215 -0.234260 -0.240049 -0.246353 -0.252632   \n",
       "\n",
       "                2031      2032      2033      2034      Total  \n",
       "Base        5.585335  5.814207  6.047603  6.286351  52.574560  \n",
       "Reform      5.326102  5.548733  5.775851  6.008613  50.298856  \n",
       "Difference -0.259232 -0.265474 -0.271752 -0.277738  -2.275705  "
      ]
     },
     "execution_count": 6,
     "metadata": {},
     "output_type": "execute_result"
    }
   ],
   "source": [
    "dynamic = TaxBrain(2025, 2034, microdata=\"TMD\", base_policy=base_policy, reform=reform_url, behavior={\"sub\": 0.25, \"cg\": -3.45})\n",
    "dynamic.run()\n",
    "result_df = dynamic.weighted_totals(\"combined\", include_total=True) * 1e-12"
   ]
  },
  {
   "cell_type": "code",
   "execution_count": 7,
   "id": "de05bdab-65e1-4e69-a76c-d666568d693f",
   "metadata": {},
   "outputs": [],
   "source": [
    "result_df.to_csv('tax_brain_result_w_behresp.csv')"
   ]
  }
 ],
 "metadata": {
  "kernelspec": {
   "display_name": "Python 3 (ipykernel)",
   "language": "python",
   "name": "python3"
  },
  "language_info": {
   "codemirror_mode": {
    "name": "ipython",
    "version": 3
   },
   "file_extension": ".py",
   "mimetype": "text/x-python",
   "name": "python",
   "nbconvert_exporter": "python",
   "pygments_lexer": "ipython3",
   "version": "3.12.4"
  }
 },
 "nbformat": 4,
 "nbformat_minor": 5
}
