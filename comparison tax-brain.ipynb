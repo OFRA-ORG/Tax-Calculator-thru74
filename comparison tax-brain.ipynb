{
 "cells": [
  {
   "cell_type": "code",
   "execution_count": 5,
   "id": "68bad2da-d5d0-4e2d-a269-466e46c7f004",
   "metadata": {},
   "outputs": [],
   "source": [
    "import pandas as pd\n",
    "from taxbrain.taxbrain import TaxBrain"
   ]
  },
  {
   "cell_type": "code",
   "execution_count": 2,
   "id": "b947ffc6-cdf6-4672-9804-2c1beafbafa5",
   "metadata": {},
   "outputs": [],
   "source": [
    "reform_url = \"https://raw.githubusercontent.com/PSLmodels/Tax-Calculator/master/taxcalc/reforms/ext.json\""
   ]
  },
  {
   "cell_type": "code",
   "execution_count": 3,
   "id": "0ea50462-ec7e-4a43-87d6-4baa86c7ab5c",
   "metadata": {},
   "outputs": [
    {
     "data": {
      "text/html": [
       "<div>\n",
       "<style scoped>\n",
       "    .dataframe tbody tr th:only-of-type {\n",
       "        vertical-align: middle;\n",
       "    }\n",
       "\n",
       "    .dataframe tbody tr th {\n",
       "        vertical-align: top;\n",
       "    }\n",
       "\n",
       "    .dataframe thead th {\n",
       "        text-align: right;\n",
       "    }\n",
       "</style>\n",
       "<table border=\"1\" class=\"dataframe\">\n",
       "  <thead>\n",
       "    <tr style=\"text-align: right;\">\n",
       "      <th></th>\n",
       "      <th>2026</th>\n",
       "      <th>2027</th>\n",
       "      <th>2028</th>\n",
       "      <th>2029</th>\n",
       "      <th>2030</th>\n",
       "      <th>2031</th>\n",
       "      <th>2032</th>\n",
       "      <th>2033</th>\n",
       "      <th>2034</th>\n",
       "      <th>Total</th>\n",
       "    </tr>\n",
       "  </thead>\n",
       "  <tbody>\n",
       "    <tr>\n",
       "      <th>Base</th>\n",
       "      <td>4.514754</td>\n",
       "      <td>4.702210</td>\n",
       "      <td>4.893923</td>\n",
       "      <td>5.099785</td>\n",
       "      <td>5.312247</td>\n",
       "      <td>5.532240</td>\n",
       "      <td>5.759157</td>\n",
       "      <td>5.990563</td>\n",
       "      <td>6.227286</td>\n",
       "      <td>48.032164</td>\n",
       "    </tr>\n",
       "    <tr>\n",
       "      <th>Reform</th>\n",
       "      <td>4.230736</td>\n",
       "      <td>4.410034</td>\n",
       "      <td>4.593657</td>\n",
       "      <td>4.790624</td>\n",
       "      <td>4.994290</td>\n",
       "      <td>5.205377</td>\n",
       "      <td>5.423373</td>\n",
       "      <td>5.645760</td>\n",
       "      <td>5.873410</td>\n",
       "      <td>45.167261</td>\n",
       "    </tr>\n",
       "    <tr>\n",
       "      <th>Difference</th>\n",
       "      <td>-0.284018</td>\n",
       "      <td>-0.292176</td>\n",
       "      <td>-0.300266</td>\n",
       "      <td>-0.309161</td>\n",
       "      <td>-0.317958</td>\n",
       "      <td>-0.326863</td>\n",
       "      <td>-0.335784</td>\n",
       "      <td>-0.344802</td>\n",
       "      <td>-0.353875</td>\n",
       "      <td>-2.864903</td>\n",
       "    </tr>\n",
       "  </tbody>\n",
       "</table>\n",
       "</div>"
      ],
      "text/plain": [
       "                2026      2027      2028      2029      2030      2031  \\\n",
       "Base        4.514754  4.702210  4.893923  5.099785  5.312247  5.532240   \n",
       "Reform      4.230736  4.410034  4.593657  4.790624  4.994290  5.205377   \n",
       "Difference -0.284018 -0.292176 -0.300266 -0.309161 -0.317958 -0.326863   \n",
       "\n",
       "                2032      2033      2034      Total  \n",
       "Base        5.759157  5.990563  6.227286  48.032164  \n",
       "Reform      5.423373  5.645760  5.873410  45.167261  \n",
       "Difference -0.335784 -0.344802 -0.353875  -2.864903  "
      ]
     },
     "execution_count": 3,
     "metadata": {},
     "output_type": "execute_result"
    }
   ],
   "source": [
    "static = TaxBrain(2026, 2034, microdata=\"TMD\", reform=reform_url)\n",
    "static.run()\n",
    "result_df_static = static.weighted_totals(\"combined\", include_total=True) * 1e-12\n",
    "result_df_static"
   ]
  },
  {
   "cell_type": "code",
   "execution_count": 17,
   "id": "c4dec74b-c621-4609-8034-4116b3c9ee8e",
   "metadata": {},
   "outputs": [],
   "source": [
    "result_df_static.to_csv('tax-brain-result-static.csv')"
   ]
  },
  {
   "cell_type": "code",
   "execution_count": 4,
   "id": "0187cd75-0beb-4ddb-9496-2886f3449d7f",
   "metadata": {},
   "outputs": [
    {
     "data": {
      "text/html": [
       "<div>\n",
       "<style scoped>\n",
       "    .dataframe tbody tr th:only-of-type {\n",
       "        vertical-align: middle;\n",
       "    }\n",
       "\n",
       "    .dataframe tbody tr th {\n",
       "        vertical-align: top;\n",
       "    }\n",
       "\n",
       "    .dataframe thead th {\n",
       "        text-align: right;\n",
       "    }\n",
       "</style>\n",
       "<table border=\"1\" class=\"dataframe\">\n",
       "  <thead>\n",
       "    <tr style=\"text-align: right;\">\n",
       "      <th></th>\n",
       "      <th>2026</th>\n",
       "      <th>2027</th>\n",
       "      <th>2028</th>\n",
       "      <th>2029</th>\n",
       "      <th>2030</th>\n",
       "      <th>2031</th>\n",
       "      <th>2032</th>\n",
       "      <th>2033</th>\n",
       "      <th>2034</th>\n",
       "      <th>Total</th>\n",
       "    </tr>\n",
       "  </thead>\n",
       "  <tbody>\n",
       "    <tr>\n",
       "      <th>Base</th>\n",
       "      <td>4.514754</td>\n",
       "      <td>4.702210</td>\n",
       "      <td>4.893923</td>\n",
       "      <td>5.099785</td>\n",
       "      <td>5.312247</td>\n",
       "      <td>5.532240</td>\n",
       "      <td>5.759157</td>\n",
       "      <td>5.990563</td>\n",
       "      <td>6.227286</td>\n",
       "      <td>48.032164</td>\n",
       "    </tr>\n",
       "    <tr>\n",
       "      <th>Reform</th>\n",
       "      <td>4.293911</td>\n",
       "      <td>4.475675</td>\n",
       "      <td>4.661922</td>\n",
       "      <td>4.861708</td>\n",
       "      <td>5.068292</td>\n",
       "      <td>5.282075</td>\n",
       "      <td>5.503159</td>\n",
       "      <td>5.728686</td>\n",
       "      <td>5.959810</td>\n",
       "      <td>45.835238</td>\n",
       "    </tr>\n",
       "    <tr>\n",
       "      <th>Difference</th>\n",
       "      <td>-0.220843</td>\n",
       "      <td>-0.226536</td>\n",
       "      <td>-0.232001</td>\n",
       "      <td>-0.238077</td>\n",
       "      <td>-0.243955</td>\n",
       "      <td>-0.250165</td>\n",
       "      <td>-0.255998</td>\n",
       "      <td>-0.261876</td>\n",
       "      <td>-0.267476</td>\n",
       "      <td>-2.196926</td>\n",
       "    </tr>\n",
       "  </tbody>\n",
       "</table>\n",
       "</div>"
      ],
      "text/plain": [
       "                2026      2027      2028      2029      2030      2031  \\\n",
       "Base        4.514754  4.702210  4.893923  5.099785  5.312247  5.532240   \n",
       "Reform      4.293911  4.475675  4.661922  4.861708  5.068292  5.282075   \n",
       "Difference -0.220843 -0.226536 -0.232001 -0.238077 -0.243955 -0.250165   \n",
       "\n",
       "                2032      2033      2034      Total  \n",
       "Base        5.759157  5.990563  6.227286  48.032164  \n",
       "Reform      5.503159  5.728686  5.959810  45.835238  \n",
       "Difference -0.255998 -0.261876 -0.267476  -2.196926  "
      ]
     },
     "execution_count": 4,
     "metadata": {},
     "output_type": "execute_result"
    }
   ],
   "source": [
    "dynamic = TaxBrain(2026, 2034, microdata=\"TMD\", reform=reform_url, behavior={\"sub\": 0.25, \"cg\": -3.45})\n",
    "dynamic.run()\n",
    "result_df_dynamic = dynamic.weighted_totals(\"combined\", include_total=True) * 1e-12\n",
    "result_df_dynamic"
   ]
  },
  {
   "cell_type": "code",
   "execution_count": 18,
   "id": "de05bdab-65e1-4e69-a76c-d666568d693f",
   "metadata": {},
   "outputs": [],
   "source": [
    "result_df_dynamic.to_csv('tax-brain-result-dynamic.csv')"
   ]
  }
 ],
 "metadata": {
  "kernelspec": {
   "display_name": "Python 3 (ipykernel)",
   "language": "python",
   "name": "python3"
  },
  "language_info": {
   "codemirror_mode": {
    "name": "ipython",
    "version": 3
   },
   "file_extension": ".py",
   "mimetype": "text/x-python",
   "name": "python",
   "nbconvert_exporter": "python",
   "pygments_lexer": "ipython3",
   "version": "3.12.4"
  }
 },
 "nbformat": 4,
 "nbformat_minor": 5
}
