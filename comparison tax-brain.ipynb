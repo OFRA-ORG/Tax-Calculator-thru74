{
 "cells": [
  {
   "cell_type": "code",
   "execution_count": 1,
   "id": "68bad2da-d5d0-4e2d-a269-466e46c7f004",
   "metadata": {},
   "outputs": [],
   "source": [
    "import pandas as pd\n",
    "from taxbrain.taxbrain import TaxBrain"
   ]
  },
  {
   "cell_type": "code",
   "execution_count": 2,
   "id": "b947ffc6-cdf6-4672-9804-2c1beafbafa5",
   "metadata": {},
   "outputs": [],
   "source": [
    "reform_url = \"https://raw.githubusercontent.com/PSLmodels/Tax-Calculator/master/taxcalc/reforms/ext.json\""
   ]
  },
  {
   "cell_type": "code",
   "execution_count": 3,
   "id": "0ea50462-ec7e-4a43-87d6-4baa86c7ab5c",
   "metadata": {},
   "outputs": [],
   "source": [
    "dynamic_min = TaxBrain(2025, 2034, microdata=\"TMD\", reform=reform_url, behavior={\"sub\": 0, \"cg\": 0})\n",
    "dynamic_min.run()\n",
    "result_df = dynamic_min.weighted_totals(\"combined\", include_total=True) * 1e-12"
   ]
  },
  {
   "cell_type": "code",
   "execution_count": 4,
   "id": "c4dec74b-c621-4609-8034-4116b3c9ee8e",
   "metadata": {},
   "outputs": [],
   "source": [
    "result_df.to_csv('tax_brain_result_wo_behresp.csv')"
   ]
  },
  {
   "cell_type": "code",
   "execution_count": 5,
   "id": "0187cd75-0beb-4ddb-9496-2886f3449d7f",
   "metadata": {},
   "outputs": [],
   "source": [
    "dynamic = TaxBrain(2025, 2034, microdata=\"TMD\", reform=reform_url, behavior={\"sub\": 0.25, \"cg\": -3.45})\n",
    "dynamic.run()\n",
    "result_df = dynamic.weighted_totals(\"combined\", include_total=True) * 1e-12"
   ]
  },
  {
   "cell_type": "code",
   "execution_count": 6,
   "id": "de05bdab-65e1-4e69-a76c-d666568d693f",
   "metadata": {},
   "outputs": [],
   "source": [
    "result_df.to_csv('tax_brain_result_w_behresp.csv')"
   ]
  }
 ],
 "metadata": {
  "kernelspec": {
   "display_name": "Python 3 (ipykernel)",
   "language": "python",
   "name": "python3"
  },
  "language_info": {
   "codemirror_mode": {
    "name": "ipython",
    "version": 3
   },
   "file_extension": ".py",
   "mimetype": "text/x-python",
   "name": "python",
   "nbconvert_exporter": "python",
   "pygments_lexer": "ipython3",
   "version": "3.12.4"
  }
 },
 "nbformat": 4,
 "nbformat_minor": 5
}
