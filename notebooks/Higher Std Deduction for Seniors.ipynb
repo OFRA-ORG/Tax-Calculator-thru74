{
 "cells": [
  {
   "cell_type": "code",
   "execution_count": null,
   "id": "5fe6e573-b81b-4c05-9b7c-f2049da51330",
   "metadata": {},
   "outputs": [
    {
     "name": "stdout",
     "output_type": "stream",
     "text": [
      "None\n",
      "/opt/homebrew/anaconda3/envs/taxcalc-dev/lib/python312.zip\n",
      "/opt/homebrew/anaconda3/envs/taxcalc-dev/lib/python3.12\n",
      "/opt/homebrew/anaconda3/envs/taxcalc-dev/lib/python3.12/lib-dynload\n",
      "\n",
      "/opt/homebrew/anaconda3/envs/taxcalc-dev/lib/python3.12/site-packages\n",
      "__editable__.taxcalc-4.6.0.finder.__path_hook__\n"
     ]
    }
   ],
   "source": [
    "from taxbrain.taxbrain import TaxBrain\n",
    "from taxbrain import report\n",
    "import pandas as pd"
   ]
  },
  {
   "cell_type": "code",
   "execution_count": null,
   "id": "308f4d3b-ad6a-47f8-97a5-a23edd49b797",
   "metadata": {},
   "outputs": [],
   "source": [
    "tcja_ext = \"https://raw.githubusercontent.com/PSLmodels/Tax-Calculator/master/taxcalc/reforms/ext.json\"\n",
    "\n",
    "single_amount = 7250\n",
    "sd_senior_reform = {\n",
    "    \"STD_Aged\": {\"2026\":  [single_amount, single_amount*2, single_amount, single_amount, single_amount*2]}\n",
    "}"
   ]
  },
  {
   "cell_type": "code",
   "execution_count": 3,
   "id": "035a3eaf-200d-40c4-b6d4-54630335c146",
   "metadata": {},
   "outputs": [
    {
     "ename": "ValueError",
     "evalue": "growfactors file taxcalc/tmd_growfactors.csv does not exist",
     "output_type": "error",
     "traceback": [
      "\u001b[0;31m---------------------------------------------------------------------------\u001b[0m",
      "\u001b[0;31mValueError\u001b[0m                                Traceback (most recent call last)",
      "Cell \u001b[0;32mIn[3], line 2\u001b[0m\n\u001b[1;32m      1\u001b[0m dynamic \u001b[38;5;241m=\u001b[39m TaxBrain(\u001b[38;5;241m2026\u001b[39m, \u001b[38;5;241m2026\u001b[39m, microdata\u001b[38;5;241m=\u001b[39m\u001b[38;5;124m\"\u001b[39m\u001b[38;5;124mTMD\u001b[39m\u001b[38;5;124m\"\u001b[39m, base_policy\u001b[38;5;241m=\u001b[39mtcja_ext, reform\u001b[38;5;241m=\u001b[39msd_senior_reform, behavior\u001b[38;5;241m=\u001b[39m{\u001b[38;5;124m\"\u001b[39m\u001b[38;5;124msub\u001b[39m\u001b[38;5;124m\"\u001b[39m: \u001b[38;5;241m0.25\u001b[39m, \u001b[38;5;124m\"\u001b[39m\u001b[38;5;124mcg\u001b[39m\u001b[38;5;124m\"\u001b[39m: \u001b[38;5;241m-\u001b[39m\u001b[38;5;241m3.45\u001b[39m})\n\u001b[0;32m----> 2\u001b[0m \u001b[43mdynamic\u001b[49m\u001b[38;5;241;43m.\u001b[39;49m\u001b[43mrun\u001b[49m\u001b[43m(\u001b[49m\u001b[43m)\u001b[49m\n",
      "File \u001b[0;32m~/Code/Tax-Calculator-thru74/taxbrain/taxbrain.py:175\u001b[0m, in \u001b[0;36mTaxBrain.run\u001b[0;34m(self, varlist, client, num_workers)\u001b[0m\n\u001b[1;32m    173\u001b[0m     \u001b[38;5;28;01mdel\u001b[39;00m base_calc\n\u001b[1;32m    174\u001b[0m \u001b[38;5;28;01melse\u001b[39;00m:\n\u001b[0;32m--> 175\u001b[0m     base_calc, reform_calc \u001b[38;5;241m=\u001b[39m \u001b[38;5;28;43mself\u001b[39;49m\u001b[38;5;241;43m.\u001b[39;49m\u001b[43m_make_calculators\u001b[49m\u001b[43m(\u001b[49m\u001b[43m)\u001b[49m\n\u001b[1;32m    176\u001b[0m     \u001b[38;5;28;01mif\u001b[39;00m \u001b[38;5;28mself\u001b[39m\u001b[38;5;241m.\u001b[39mparams[\u001b[38;5;124m\"\u001b[39m\u001b[38;5;124mbehavior\u001b[39m\u001b[38;5;124m\"\u001b[39m]:\n\u001b[1;32m    177\u001b[0m         \u001b[38;5;28;01mif\u001b[39;00m \u001b[38;5;28mself\u001b[39m\u001b[38;5;241m.\u001b[39mverbose:\n",
      "File \u001b[0;32m~/Code/Tax-Calculator-thru74/taxbrain/taxbrain.py:729\u001b[0m, in \u001b[0;36mTaxBrain._make_calculators\u001b[0;34m(self)\u001b[0m\n\u001b[1;32m    727\u001b[0m \u001b[38;5;28;01melif\u001b[39;00m \u001b[38;5;28mself\u001b[39m\u001b[38;5;241m.\u001b[39mmicrodata \u001b[38;5;241m==\u001b[39m \u001b[38;5;124m\"\u001b[39m\u001b[38;5;124mTMD\u001b[39m\u001b[38;5;124m\"\u001b[39m:\n\u001b[1;32m    728\u001b[0m     \u001b[38;5;28;01mif\u001b[39;00m \u001b[38;5;129;01mnot\u001b[39;00m \u001b[38;5;28mself\u001b[39m\u001b[38;5;241m.\u001b[39msubnational:\n\u001b[0;32m--> 729\u001b[0m         records \u001b[38;5;241m=\u001b[39m \u001b[43mtc\u001b[49m\u001b[38;5;241;43m.\u001b[39;49m\u001b[43mRecords\u001b[49m\u001b[38;5;241;43m.\u001b[39;49m\u001b[43mtmd_constructor\u001b[49m\u001b[43m(\u001b[49m\n\u001b[1;32m    730\u001b[0m \u001b[43m            \u001b[49m\u001b[43mdata_path\u001b[49m\u001b[38;5;241;43m=\u001b[39;49m\u001b[43mPath\u001b[49m\u001b[43m(\u001b[49m\u001b[38;5;124;43m\"\u001b[39;49m\u001b[38;5;124;43m./taxcalc/tmd.csv\u001b[39;49m\u001b[38;5;124;43m\"\u001b[39;49m\u001b[43m)\u001b[49m\u001b[43m,\u001b[49m\n\u001b[1;32m    731\u001b[0m \u001b[43m            \u001b[49m\u001b[43mweights_path\u001b[49m\u001b[38;5;241;43m=\u001b[39;49m\u001b[43mPath\u001b[49m\u001b[43m(\u001b[49m\u001b[38;5;124;43m\"\u001b[39;49m\u001b[38;5;124;43m./taxcalc/tmd_weights.csv.gz\u001b[39;49m\u001b[38;5;124;43m\"\u001b[39;49m\u001b[43m)\u001b[49m\u001b[43m,\u001b[49m\n\u001b[1;32m    732\u001b[0m \u001b[43m            \u001b[49m\u001b[43mgrowfactors\u001b[49m\u001b[38;5;241;43m=\u001b[39;49m\u001b[43mPath\u001b[49m\u001b[43m(\u001b[49m\u001b[38;5;124;43m\"\u001b[39;49m\u001b[38;5;124;43m./taxcalc/tmd_growfactors.csv\u001b[39;49m\u001b[38;5;124;43m\"\u001b[39;49m\u001b[43m)\u001b[49m\u001b[43m,\u001b[49m\n\u001b[1;32m    733\u001b[0m \u001b[43m        \u001b[49m\u001b[43m)\u001b[49m\n\u001b[1;32m    734\u001b[0m     \u001b[38;5;28;01melse\u001b[39;00m:\n\u001b[1;32m    735\u001b[0m         records \u001b[38;5;241m=\u001b[39m tc\u001b[38;5;241m.\u001b[39mRecords\u001b[38;5;241m.\u001b[39mtmd_constructor(\n\u001b[1;32m    736\u001b[0m             data_path\u001b[38;5;241m=\u001b[39mPath(\u001b[38;5;124m\"\u001b[39m\u001b[38;5;124m./taxcalc/tmd.csv\u001b[39m\u001b[38;5;124m\"\u001b[39m),\n\u001b[1;32m    737\u001b[0m             weights_path\u001b[38;5;241m=\u001b[39mPath(\u001b[38;5;124m\"\u001b[39m\u001b[38;5;124m./subnational/cds/\u001b[39m\u001b[38;5;124m\"\u001b[39m\u001b[38;5;241m+\u001b[39m\u001b[38;5;28mself\u001b[39m\u001b[38;5;241m.\u001b[39mlocale\u001b[38;5;241m+\u001b[39m\u001b[38;5;124m\"\u001b[39m\u001b[38;5;124m_tmd_weights.csv.gz\u001b[39m\u001b[38;5;124m\"\u001b[39m),\n\u001b[1;32m    738\u001b[0m             growfactors\u001b[38;5;241m=\u001b[39mPath(\u001b[38;5;124m\"\u001b[39m\u001b[38;5;124m./taxcalc/tmd_growfactors.csv\u001b[39m\u001b[38;5;124m\"\u001b[39m),\n\u001b[1;32m    739\u001b[0m         )\n",
      "File \u001b[0;32m~/Code/Tax-Calculator-thru74/taxcalc/records.py:255\u001b[0m, in \u001b[0;36mRecords.tmd_constructor\u001b[0;34m(data_path, weights_path, growfactors, exact_calculations)\u001b[0m\n\u001b[1;32m    253\u001b[0m \u001b[38;5;28;01massert\u001b[39;00m \u001b[38;5;28misinstance\u001b[39m(weights_path, Path)\n\u001b[1;32m    254\u001b[0m \u001b[38;5;28;01mif\u001b[39;00m \u001b[38;5;28misinstance\u001b[39m(growfactors, Path):\n\u001b[0;32m--> 255\u001b[0m     growfactors \u001b[38;5;241m=\u001b[39m \u001b[43mGrowFactors\u001b[49m\u001b[43m(\u001b[49m\u001b[43mgrowfactors_filename\u001b[49m\u001b[38;5;241;43m=\u001b[39;49m\u001b[38;5;28;43mstr\u001b[39;49m\u001b[43m(\u001b[49m\u001b[43mgrowfactors\u001b[49m\u001b[43m)\u001b[49m\u001b[43m)\u001b[49m\n\u001b[1;32m    256\u001b[0m \u001b[38;5;28;01melse\u001b[39;00m:\n\u001b[1;32m    257\u001b[0m     \u001b[38;5;28;01massert\u001b[39;00m \u001b[38;5;28misinstance\u001b[39m(growfactors, GrowFactors)\n",
      "File \u001b[0;32m~/Code/Tax-Calculator-thru74/taxcalc/growfactors.py:73\u001b[0m, in \u001b[0;36mGrowFactors.__init__\u001b[0;34m(self, growfactors_filename)\u001b[0m\n\u001b[1;32m     68\u001b[0m         \u001b[38;5;28;01melse\u001b[39;00m:  \u001b[38;5;66;03m# file does not exist\u001b[39;00m\n\u001b[1;32m     69\u001b[0m             msg \u001b[38;5;241m=\u001b[39m (\n\u001b[1;32m     70\u001b[0m                 \u001b[38;5;124mf\u001b[39m\u001b[38;5;124m'\u001b[39m\u001b[38;5;124mgrowfactors file \u001b[39m\u001b[38;5;132;01m{\u001b[39;00mgrowfactors_filename\u001b[38;5;132;01m}\u001b[39;00m\u001b[38;5;124m \u001b[39m\u001b[38;5;124m'\u001b[39m\n\u001b[1;32m     71\u001b[0m                 \u001b[38;5;124m'\u001b[39m\u001b[38;5;124mdoes not exist\u001b[39m\u001b[38;5;124m'\u001b[39m\n\u001b[1;32m     72\u001b[0m             )\n\u001b[0;32m---> 73\u001b[0m             \u001b[38;5;28;01mraise\u001b[39;00m \u001b[38;5;167;01mValueError\u001b[39;00m(msg)\n\u001b[1;32m     74\u001b[0m \u001b[38;5;28;01melse\u001b[39;00m:\n\u001b[1;32m     75\u001b[0m     \u001b[38;5;28;01mraise\u001b[39;00m \u001b[38;5;167;01mValueError\u001b[39;00m(\u001b[38;5;124m'\u001b[39m\u001b[38;5;124mgrowfactors_filename is not a string\u001b[39m\u001b[38;5;124m'\u001b[39m)\n",
      "\u001b[0;31mValueError\u001b[0m: growfactors file taxcalc/tmd_growfactors.csv does not exist"
     ]
    }
   ],
   "source": [
    "dynamic = TaxBrain(2026, 2026, microdata=\"TMD\", base_policy=tcja_ext, reform=sd_senior_reform, behavior={\"sub\": 0.25, \"cg\": -3.45})\n",
    "dynamic.run()"
   ]
  },
  {
   "cell_type": "code",
   "execution_count": null,
   "id": "7b1f5eb6-ce6d-4282-bc16-416455222d3e",
   "metadata": {},
   "outputs": [],
   "source": [
    "df_base = dynamic.base_calc[['s006', 'MARS', 'age_head', 'age_spouse', 'mtr_combined']]\n",
    "df_reform = dynamic.reform_calc[['s006', 'MARS', 'age_head', 'age_spouse', 'mtr_combined']]"
   ]
  },
  {
   "cell_type": "code",
   "execution_count": null,
   "id": "3e888239-525a-4de9-911b-2327f3246604",
   "metadata": {},
   "outputs": [],
   "source": [
    "def my_agg(x):\n",
    "    if x['MARS'].iloc[0]==2:\n",
    "        y = x[(x['age_head'] >= 65) | (x['age_spouse'] >= 65)]\n",
    "    else:\n",
    "        y = x[(x['age_head'] >= 65)]\n",
    "    y['mtr_total'] = y['s006']*y['mtr_combined']\n",
    "    mtr_avg = sum(y['mtr_total'])/sum(y['s006'])\n",
    "    names = {\n",
    "        'mtr_avg': f\"{mtr_avg:.1f}\"\n",
    "    }\n",
    "    return pd.Series(names)"
   ]
  },
  {
   "cell_type": "code",
   "execution_count": null,
   "id": "9587a569-479c-4612-b463-94ac3dc1ac23",
   "metadata": {},
   "outputs": [
    {
     "name": "stderr",
     "output_type": "stream",
     "text": [
      "/var/folders/8d/mdshyj_x3x5bn5cmqhrhn3yh0000gn/T/ipykernel_57654/3903910536.py:1: DeprecationWarning: DataFrameGroupBy.apply operated on the grouping columns. This behavior is deprecated, and in a future version of pandas the grouping columns will be excluded from the operation. Either pass `include_groups=False` to exclude the groupings or explicitly select the grouping columns after groupby to silence this warning.\n",
      "  df_base_out = df_base.groupby(['MARS'], as_index=True).apply(my_agg).reset_index()\n",
      "/var/folders/8d/mdshyj_x3x5bn5cmqhrhn3yh0000gn/T/ipykernel_57654/3903910536.py:2: DeprecationWarning: DataFrameGroupBy.apply operated on the grouping columns. This behavior is deprecated, and in a future version of pandas the grouping columns will be excluded from the operation. Either pass `include_groups=False` to exclude the groupings or explicitly select the grouping columns after groupby to silence this warning.\n",
      "  df_reform_out = df_reform.groupby(['MARS'], as_index=True).apply(my_agg).reset_index()\n"
     ]
    }
   ],
   "source": [
    "df_base_out = df_base.groupby(['MARS'], as_index=True).apply(my_agg).reset_index()\n",
    "df_reform_out = df_reform.groupby(['MARS'], as_index=True).apply(my_agg).reset_index()"
   ]
  },
  {
   "cell_type": "code",
   "execution_count": null,
   "id": "4f2bcd2b-86cf-4ba9-b986-a7f9688b4b2e",
   "metadata": {},
   "outputs": [],
   "source": [
    "df_combined = pd.concat([df_base_out, df_reform_out['mtr_avg']], axis=1)\n",
    "mapping = {1: \"single\", 2: \"joint\", 3: \"separate\", 4: \"household-head\", 5: \"widow(er)\"}\n",
    "df_combined['MARS'] = df_combined['MARS'].map(mapping)\n",
    "df_combined.columns = ['Filing Status', 'Average Marginal Tax Rate (%, Baseline)', 'Average Marginal Tax Rate (%, Reform)']"
   ]
  },
  {
   "cell_type": "code",
   "execution_count": null,
   "id": "975f4cf8-c345-42aa-bc37-000705a27865",
   "metadata": {},
   "outputs": [],
   "source": [
    "df_combined.to_excel('SD_Increase_for_Seniors.xlsx', index=False)\n",
    "df_combined.to_csv('SD_Increase_for_Seniors.csv', index=False)"
   ]
  }
 ],
 "metadata": {
  "kernelspec": {
   "display_name": "taxcalc-dev",
   "language": "python",
   "name": "python3"
  },
  "language_info": {
   "codemirror_mode": {
    "name": "ipython",
    "version": 3
   },
   "file_extension": ".py",
   "mimetype": "text/x-python",
   "name": "python",
   "nbconvert_exporter": "python",
   "pygments_lexer": "ipython3",
   "version": "3.12.11"
  }
 },
 "nbformat": 4,
 "nbformat_minor": 5
}
