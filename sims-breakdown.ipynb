{
 "cells": [
  {
   "cell_type": "code",
   "execution_count": 1,
   "id": "a061ee88-4b4e-4085-8ca9-5e222a1f2e33",
   "metadata": {},
   "outputs": [],
   "source": [
    "from taxbrain.taxbrain import TaxBrain\n",
    "from taxbrain import report"
   ]
  },
  {
   "cell_type": "code",
   "execution_count": 2,
   "id": "724e715a-6505-4080-b0d5-762cee667412",
   "metadata": {},
   "outputs": [],
   "source": [
    "## corresponding to JCT's I.A.1\n",
    "json_rates = \"\"\"{\n",
    "    \"II_rt1\": {\"2026\": 0.10},\n",
    "    \"II_brk1\": {\"2026\": [12170.98, 24341.94, 12170.98, 17353.27, 24341.94]},\n",
    "    \"PT_rt1\": {\"2026\": 0.10},\n",
    "    \"PT_brk1\": {\"2026\": [12170.98, 24341.94, 12170.98, 17353.27, 24341.94]},\n",
    "    \"II_rt2\": {\"2026\": 0.12},\n",
    "    \"II_brk2\": {\"2026\": [49483.44, 98966.89, 49483.44, 66214.83, 98966.89]},\n",
    "    \"PT_rt2\": {\"2026\": 0.12},\n",
    "    \"PT_brk2\": {\"2026\": [49483.44, 98966.89, 49483.44, 66214.83, 98966.89]},\n",
    "    \"II_rt3\": {\"2026\": 0.22},\n",
    "    \"II_brk3\": {\"2026\": [105511.38, 211022.75, 105511.38, 105481.77, 211022.75]},\n",
    "    \"PT_rt3\": {\"2026\": 0.22},\n",
    "    \"PT_brk3\": {\"2026\": [105511.38, 211022.75, 105511.38, 105481.77, 211022.75]},\n",
    "    \"II_rt4\": {\"2026\": 0.24},\n",
    "    \"II_brk4\": {\"2026\": [201428.14, 402856.25, 201428.14, 201428.14, 402856.25]},\n",
    "    \"PT_rt4\": {\"2026\": 0.24},\n",
    "    \"PT_brk4\": {\"2026\": [201428.14, 402856.25, 201428.14, 201428.14, 402856.25]},\n",
    "    \"II_rt5\": {\"2026\": 0.32},\n",
    "    \"II_brk5\": {\"2026\": [255797.72, 511595.46, 255797.72, 255797.72, 511595.46]},\n",
    "    \"PT_rt5\": {\"2026\": 0.32},\n",
    "    \"PT_brk5\": {\"2026\": [255797.72, 511595.46, 255797.72, 255797.72, 511595.46]},\n",
    "    \"II_rt6\": {\"2026\": 0.35},\n",
    "    \"II_brk6\": {\"2026\": [639523.94, 767393.2, 383696.6, 639523.94, 767393.2]},\n",
    "    \"PT_rt6\": {\"2026\": 0.35},\n",
    "    \"PT_brk6\": {\"2026\": [639523.94, 767393.2, 383696.6, 639523.94, 767393.2]},\n",
    "    \"II_rt7\": {\"2026\": 0.37},\n",
    "    \"II_brk7\": {\"2026\": [9e+99, 9e+99, 9e+99, 9e+99, 9e+99]},\n",
    "    \"PT_rt7\": {\"2026\": 0.37},\n",
    "    \"PT_brk7\": {\"2026\": [9e+99, 9e+99, 9e+99, 9e+99, 9e+99]}\n",
    "}\"\"\"\n",
    "\n",
    "json_sd = \"\"\"{\n",
    "    \"STD\": {\"2026\": [15339.57, 30679.14, 15339.57, 22979.74, 30679.14]}\n",
    "}\"\"\"\n",
    "\n",
    "json_personal_exemption = \"\"\"{\n",
    "    \"II_em\": {\"2026\": 0.00},\n",
    "    \"II_em_ps\": {\"2026\": [9e+99, 9e+99, 9e+99, 9e+99, 9e+99]}\n",
    "}\"\"\"\n",
    "\n",
    "json_qbid = \"\"\"{\n",
    "    \"PT_qbid_rt\": {\"2026\": 0.20},\n",
    "    \"PT_qbid_taxinc_thd\": {\"2026\": [201428.14, 402856.25, 201428.14, 201428.14, 402856.25]},\n",
    "    \"PT_qbid_taxinc_gap\": {\"2026\": [50000.0, 100000.0, 50000.0, 50000.0, 100000.0]},\n",
    "    \"PT_qbid_w2_wages_rt\": {\"2026\": 0.50},\n",
    "    \"PT_qbid_alt_w2_wages_rt\": {\"2026\": 0.25},\n",
    "    \"PT_qbid_alt_property_rt\": {\"2026\": 0.03}\n",
    "}\"\"\"\n",
    "\n",
    "json_excess_biz_loss = \"\"\"{\n",
    "   \"ALD_BusinessLosses_c\": {\"2026\": [319821.19, 639642.39, 319821.19, 319821.19, 639642.39]}\n",
    "}\"\"\"\n",
    "\n",
    "json_ctc = \"\"\"{\n",
    "    \"CTC_c\": {\"2026\": 2000.00},\n",
    "    \"ACTC_c\": {\"2026\": 1600.00},\n",
    "    \"CTC_ps\": {\"2026\": [200000.0, 400000.0, 200000.0, 200000.0, 400000.0]},\n",
    "    \"ACTC_Income_thd\": {\"2026\": 2500.00},\n",
    "    \"ODC_c\": {\"2026\": 500.00}\n",
    "}\"\"\"\n",
    "\n",
    "json_salt = \"\"\"{\n",
    "    \"ID_AllTaxes_c\": {\"2026\": [10000.0, 10000.0, 5000.0, 10000.0, 10000.0]},\n",
    "    \"ID_Casualty_hc\": {\"2026\": 1.00},\n",
    "    \"ID_Miscellaneous_hc\": {\"2026\": 1.00},\n",
    "    \n",
    "    \"ID_Charity_crt_cash\": {\"2026\": 0.60},\n",
    "    \n",
    "    \"ID_ps\": {\"2026\": [9e+99, 9e+99, 9e+99, 9e+99, 9e+99]},\n",
    "    \"ID_prt\": {\"2026\": 0.00},\n",
    "    \"ID_crt\": {\"2026\": 1.00}\n",
    "}\"\"\"\n",
    "\n",
    "json_amt = \"\"\"{\n",
    "    \"AMT_em\": {\"2026\": [89905.29, 139892.17, 69946.08, 89905.29, 139892.17]},\n",
    "    \"AMT_em_ps\": {\"2026\": [639523.94, 1279047.88, 639523.94, 639523.94, 1279047.88]},\n",
    "    \"AMT_em_pe\": {\"2026\": 939533.04}\n",
    "}\"\"\"\n",
    "\n",
    "json_ald_domestic_prod = \"\"\"{\n",
    "   \"ALD_DomesticProduction_hc\": {\"2026\": 1.00}\n",
    "}\"\"\""
   ]
  },
  {
   "cell_type": "code",
   "execution_count": 3,
   "id": "88b857c0-7248-4c71-87a1-e8ee7cada252",
   "metadata": {},
   "outputs": [],
   "source": [
    "base_policy = \"\"\"{\n",
    "   \"ALD_DomesticProduction_hc\": {\"2026\": 1.00}\n",
    "}\"\"\""
   ]
  },
  {
   "cell_type": "code",
   "execution_count": 4,
   "id": "fa69a9e3-c7ce-4ac3-995e-8188a0b06fa0",
   "metadata": {},
   "outputs": [],
   "source": [
    "base_dict = {base_policy}"
   ]
  },
  {
   "cell_type": "code",
   "execution_count": 5,
   "id": "0f87371c-bfe2-4198-9330-a338bf685330",
   "metadata": {},
   "outputs": [],
   "source": [
    "reform_dict = {\n",
    "    \"json_ald_domestic_prod\": json_ald_domestic_prod,\n",
    "    \n",
    "    \"json_rates\": json_rates,\n",
    "    \"json_ctc\": json_ctc,\n",
    "    \"json_amt\": json_amt,\n",
    "    \"json_sd\": json_sd,\n",
    "    \"json_salt\": json_salt,\n",
    "    \"json_personal_exemption\": json_personal_exemption,\n",
    "    \"json_qbid\": json_qbid,\n",
    "    \"json_excess_biz_loss\": json_excess_biz_loss\n",
    "}"
   ]
  },
  {
   "cell_type": "code",
   "execution_count": 6,
   "id": "93a0e545-3b13-4f0a-a540-03c32c3dcd8a",
   "metadata": {},
   "outputs": [],
   "source": [
    "dynamic_min = TaxBrain(2025, 2034, microdata=\"TMD\", base_policy=base_policy, reform=reform_dict, stacked=True, behavior={\"sub\": 0, \"cg\": 0})\n",
    "dynamic_min.run()"
   ]
  },
  {
   "cell_type": "code",
   "execution_count": 7,
   "id": "2f230fb0-f22a-4c31-9e4e-c37c4fa74528",
   "metadata": {},
   "outputs": [],
   "source": [
    "df = -dynamic_min.stacked_table * 1e-6\n",
    "df.to_csv('./sims-breakdown/tcja_breakdown_wo_behresp_2.csv')"
   ]
  },
  {
   "cell_type": "code",
   "execution_count": 8,
   "id": "55d2b46c-48b0-4fa9-ac88-0012d2acb8b3",
   "metadata": {},
   "outputs": [],
   "source": [
    "dynamic = TaxBrain(2025, 2034, microdata=\"TMD\", base_policy=base_policy, reform=reform_dict, stacked=True, behavior={\"sub\": 0.25, \"cg\": -3.45})\n",
    "dynamic.run()"
   ]
  },
  {
   "cell_type": "code",
   "execution_count": 9,
   "id": "7ad85f1a-6727-40e4-bfa2-d07d50d79d09",
   "metadata": {},
   "outputs": [],
   "source": [
    "df = -dynamic.stacked_table * 1e-6\n",
    "df.to_csv('./sims-breakdown/tcja_breakdown_w_behresp_2.csv')"
   ]
  }
 ],
 "metadata": {
  "kernelspec": {
   "display_name": "Python 3 (ipykernel)",
   "language": "python",
   "name": "python3"
  },
  "language_info": {
   "codemirror_mode": {
    "name": "ipython",
    "version": 3
   },
   "file_extension": ".py",
   "mimetype": "text/x-python",
   "name": "python",
   "nbconvert_exporter": "python",
   "pygments_lexer": "ipython3",
   "version": "3.12.4"
  }
 },
 "nbformat": 4,
 "nbformat_minor": 5
}
